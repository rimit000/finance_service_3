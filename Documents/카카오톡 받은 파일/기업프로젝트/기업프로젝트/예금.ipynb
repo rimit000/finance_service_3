{
 "cells": [
  {
   "cell_type": "code",
   "execution_count": 1,
   "id": "d95c2a6a",
   "metadata": {},
   "outputs": [],
   "source": [
    "import pandas as pd\n",
    "\n",
    "# 1. CSV 파일 불러오기\n",
    "df = pd.read_csv(\"정기예금_상품정보_API.csv\")"
   ]
  },
  {
   "cell_type": "code",
   "execution_count": 5,
   "id": "cce68867",
   "metadata": {},
   "outputs": [],
   "source": [
    "columns_to_keep = {\n",
    "    \"fin_prdt_cd\": \"상품코드\",\n",
    "    \"fin_co_no\": \"금융회사코드\",\n",
    "    \"kor_co_nm\": \"금융회사명\",\n",
    "    \"fin_prdt_nm\": \"상품명\",\n",
    "    \"intr_rate_type_nm\": \"금리유형명\",\n",
    "    \"intr_rate\": \"기본금리\",\n",
    "    \"intr_rate2\": \"최고우대금리\",\n",
    "    \"save_trm\": \"저축기간(개월)\"\n",
    "}\n"
   ]
  },
  {
   "cell_type": "code",
   "execution_count": 4,
   "id": "27cc5a65",
   "metadata": {},
   "outputs": [
    {
     "name": "stdout",
     "output_type": "stream",
     "text": [
      "['dcls_month', 'fin_co_no', 'fin_prdt_cd', 'kor_co_nm', 'fin_prdt_nm', 'join_way', 'mtrt_int', 'spcl_cnd', 'join_deny', 'join_member', 'etc_note', 'max_limit', 'dcls_strt_day', 'dcls_end_day', 'fin_co_subm_day', 'intr_rate_type', 'intr_rate_type_nm', 'save_trm', 'intr_rate', 'intr_rate2']\n"
     ]
    }
   ],
   "source": [
    "print(df.columns.tolist())\n"
   ]
  },
  {
   "cell_type": "code",
   "execution_count": 6,
   "id": "786aabcd",
   "metadata": {},
   "outputs": [],
   "source": [
    "# 3. 열 선택 + 컬럼명 변경\n",
    "clean_df = df[list(columns_to_keep.keys())].rename(columns=columns_to_keep)"
   ]
  },
  {
   "cell_type": "code",
   "execution_count": 7,
   "id": "6283b367",
   "metadata": {},
   "outputs": [],
   "source": [
    "# 4. 중복 제거\n",
    "clean_df = clean_df.drop_duplicates().reset_index(drop=True)"
   ]
  },
  {
   "cell_type": "code",
   "execution_count": 8,
   "id": "8852fcaa",
   "metadata": {},
   "outputs": [
    {
     "name": "stdout",
     "output_type": "stream",
     "text": [
      "      상품코드  금융회사코드 금융회사명       상품명 금리유형명  기본금리  최고우대금리  저축기간(개월)\n",
      "0  WR0001B   10001  우리은행  WON플러스예금    단리  2.70    2.70         1\n",
      "1  WR0001B   10001  우리은행  WON플러스예금    단리  2.70    2.70         3\n",
      "2  WR0001B   10001  우리은행  WON플러스예금    단리  2.65    2.65         6\n",
      "3  WR0001B   10001  우리은행  WON플러스예금    단리  2.60    2.60        12\n",
      "4  WR0001B   10001  우리은행  WON플러스예금    단리  2.45    2.45        24\n"
     ]
    }
   ],
   "source": [
    "# 5. CSV로 저장 (선택)\n",
    "clean_df.to_csv(\"정리된_정기예금_상품정보.csv\", index=False, encoding=\"utf-8-sig\")\n",
    "\n",
    "# 6. 결과 확인\n",
    "print(clean_df.head())"
   ]
  },
  {
   "cell_type": "code",
   "execution_count": null,
   "id": "2c75abc5",
   "metadata": {},
   "outputs": [],
   "source": []
  }
 ],
 "metadata": {
  "kernelspec": {
   "display_name": "TEST",
   "language": "python",
   "name": "python3"
  },
  "language_info": {
   "codemirror_mode": {
    "name": "ipython",
    "version": 3
   },
   "file_extension": ".py",
   "mimetype": "text/x-python",
   "name": "python",
   "nbconvert_exporter": "python",
   "pygments_lexer": "ipython3",
   "version": "3.12.8"
  }
 },
 "nbformat": 4,
 "nbformat_minor": 5
}
